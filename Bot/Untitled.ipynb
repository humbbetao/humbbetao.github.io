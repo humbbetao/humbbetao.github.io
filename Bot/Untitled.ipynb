{
 "cells": [
  {
   "cell_type": "code",
   "execution_count": 1,
   "metadata": {},
   "outputs": [],
   "source": [
    "import telebot\n",
    "import urllib\n",
    "import unidecode\n",
    "import pandas as pd\n",
    "import json\n",
    "import os"
   ]
  },
  {
   "cell_type": "code",
   "execution_count": 2,
   "metadata": {},
   "outputs": [],
   "source": [
    "bot = telebot.TeleBot(\"1137737776:AAGsXD5pfSTrAWp4W_5oE3W4dnDgMW_4GuI\")"
   ]
  },
  {
   "cell_type": "code",
   "execution_count": 3,
   "metadata": {},
   "outputs": [],
   "source": [
    "sisu = pd.read_csv(\"dados_sisu.csv\",encoding=\"iso-8859-1\")"
   ]
  },
  {
   "cell_type": "code",
   "execution_count": 4,
   "metadata": {},
   "outputs": [],
   "source": [
    "profissoes = sisu.Curso.values"
   ]
  },
  {
   "cell_type": "code",
   "execution_count": 5,
   "metadata": {},
   "outputs": [],
   "source": [
    "profissoes = [unidecode.unidecode(x.lower()) for x in profissoes]"
   ]
  },
  {
   "cell_type": "code",
   "execution_count": 6,
   "metadata": {},
   "outputs": [],
   "source": [
    "def cadastro_usuario(id_telegram, nome_comp, idade, periodo_estd):\n",
    "    \n",
    "    if not os.path.isfile(str(id_telegram)+\"_\"+nome_comp.split(\" \")[0].lower()+\".json\"):\n",
    "        usuario = {'id_telegram' : id_telegram, 'nome_completo' : nome_comp, 'idade' : idade, 'periodo_estd' : periodo_estd, 'saldo' : 0, 'trilhas': {}}\n",
    "        js = json.dumps(usuario)\n",
    "        \n",
    "        with open(str(id_telegram)+\"_\"+nome_comp.split(\" \")[0].lower()+\".json\", \"a\") as target:\n",
    "            json.dump(js,target)\n"
   ]
  },
  {
   "cell_type": "code",
   "execution_count": 7,
   "metadata": {},
   "outputs": [],
   "source": [
    "def ler_cadastro(id_telegram, nome_comp):\n",
    "    with open(id_telegram+\"_\"+nome_comp.split(\" \")[0].lower()+\".json\", \"r\") as target:\n",
    "        js = json.load(target)\n",
    "        return js"
   ]
  },
  {
   "cell_type": "code",
   "execution_count": 8,
   "metadata": {},
   "outputs": [],
   "source": [
    "def procura_profissao(text):    \n",
    "    return unidecode.unidecode(text.lower()) in profissoes"
   ]
  },
  {
   "cell_type": "code",
   "execution_count": 9,
   "metadata": {},
   "outputs": [],
   "source": [
    "@bot.message_handler(commands=['start','help'])\n",
    "def send_welcome(message):\n",
    "    name = message.from_user.first_name\n",
    "    if os.path.isfile(str(message.from_user.id)+\"_\"+name.lower()+\".json\"):\n",
    "        welcome_message = f\"\"\"*Qual é o seu sonho {name}?*\n",
    "        _Nos conte qual o seu sonho, o que você quer ser quando crescer?_\"\"\"\n",
    "        bot.reply_to(message,welcome_message,parse_mode= 'MarkdownV2')\n",
    "    else:\n",
    "        bot.reply_to(message,\"Olá, antes de começar precisamos te conhecer melhor. Qual sua idade e melhor período para estudo (manhã,tarde,noite) separados por espaço(Ex: 14 tarde)?\")"
   ]
  },
  {
   "cell_type": "code",
   "execution_count": 10,
   "metadata": {},
   "outputs": [],
   "source": [
    "@bot.message_handler(regexp=r\"\\d{1,2} \\w[a-zA-zã]*\")\n",
    "def regex(message):    \n",
    "    cadastro_usuario(message.from_user.id,message.from_user.first_name+\" \"+message.from_user.last_name,message.text.split(\" \")[0],message.text.split(\" \")[1])\n",
    "    bot.reply_to(message, \"Informações cadastradas com sucesso. click em /start para começar o processo.\")"
   ]
  },
  {
   "cell_type": "code",
   "execution_count": 11,
   "metadata": {},
   "outputs": [],
   "source": [
    "@bot.message_handler(commands=['wakanda'])\n",
    "def send_gif(message):\n",
    "    gif = open('wakanda.gif','rb')\n",
    "    bot.send_animation(message.chat.id,gif)"
   ]
  },
  {
   "cell_type": "code",
   "execution_count": 12,
   "metadata": {},
   "outputs": [],
   "source": [
    "@bot.message_handler(commands=['trilhas'])\n",
    "def mostra_trilha(message):\n",
    "    markup = telebot.types.ReplyKeyboardMarkup(row_width=1, one_time_keyboard=True)\n",
    "    _ = [markup.row(telebot.types.KeyboardButton(x)) for x in sisu.Curso.values]\n",
    "    bot.send_message(message.chat.id,f'As trilhas disponíveis são:',parse_mode= 'MarkdownV2',reply_markup= markup )\n"
   ]
  },
  {
   "cell_type": "code",
   "execution_count": 13,
   "metadata": {},
   "outputs": [],
   "source": [
    "@bot.message_handler(commands=['pontos'])\n",
    "def mostra_saldo(message):\n",
    "    bot.send_message(message.chat.id,f'O seu saldo é R$ 5,00',parse_mode= 'MarkdownV2')"
   ]
  },
  {
   "cell_type": "code",
   "execution_count": 14,
   "metadata": {},
   "outputs": [],
   "source": [
    "@bot.message_handler(commands=['corte'])\n",
    "def nota_corte(message):\n",
    "    tokens = message.text.split(' ',1)\n",
    "    if len(tokens) == 1:\n",
    "        markup = telebot.types.ReplyKeyboardMarkup(row_width=1, one_time_keyboard=True)\n",
    "        _ = [markup.row(telebot.types.KeyboardButton(f\"/corte {x}\")) for x in sisu.Curso.values]\n",
    "\n",
    "        bot.send_message(message.chat.id,f'Notas de corte disponíveis:',parse_mode= 'MarkdownV2',reply_markup= markup )\n",
    "    else:\n",
    "        bot.reply_to(message,f\"A nota de corte para o curso de {tokens[-1]} é {sisu[sisu['Curso']==tokens[-1]]['Nota'].values[0]}.\") "
   ]
  },
  {
   "cell_type": "code",
   "execution_count": 15,
   "metadata": {},
   "outputs": [],
   "source": [
    "@bot.message_handler(func=lambda m: True)\n",
    "def echo_all(message):\n",
    "    teste = procura_profissao(message.text)\n",
    "    texto = message.text\n",
    "    if teste:        \n",
    "        bot.send_message(message.chat.id,f\"Uhull que legal que você quer cursar {texto}. Veja a trilha que preparamos para você 🙂 https://humbbetao-github-io.now.sh/\")\n",
    "        #bot.reply_to(message,'aqui.',parse_mode= 'MarkdownV2')\n",
    "    else:\n",
    "        bot.reply_to(message,'Que pena, ainda não temos uma trilha para essa profissão :(. Digite /trilhas para consultar as trilhas disponíveis.')\n",
    "        #bot.reply_to(message,'aqui',parse_mode= 'MarkdownV2')\n"
   ]
  },
  {
   "cell_type": "code",
   "execution_count": 19,
   "metadata": {},
   "outputs": [
    {
     "data": {
      "text/plain": [
       "True"
      ]
     },
     "execution_count": 19,
     "metadata": {},
     "output_type": "execute_result"
    }
   ],
   "source": [
    "\"robo\" in \"quero contruir robo\""
   ]
  },
  {
   "cell_type": "code",
   "execution_count": 16,
   "metadata": {},
   "outputs": [
    {
     "name": "stdout",
     "output_type": "stream",
     "text": [
      "{'content_type': 'text', 'message_id': 215, 'from_user': {'id': 1049407683, 'is_bot': False, 'first_name': 'Juliano', 'username': None, 'last_name': 'Oliveira', 'language_code': 'en'}, 'date': 1583659355, 'chat': {'type': 'private', 'last_name': 'Oliveira', 'first_name': 'Juliano', 'username': None, 'id': 1049407683, 'title': None, 'all_members_are_administrators': None, 'photo': None, 'description': None, 'invite_link': None, 'pinned_message': None, 'sticker_set_name': None, 'can_set_sticker_set': None}, 'forward_from_chat': None, 'forward_from_message_id': None, 'forward_from': None, 'forward_date': None, 'reply_to_message': None, 'edit_date': None, 'media_group_id': None, 'author_signature': None, 'text': '/start', 'entities': [<telebot.types.MessageEntity object at 0x0000018409A62518>], 'caption_entities': None, 'audio': None, 'document': None, 'photo': None, 'sticker': None, 'video': None, 'video_note': None, 'voice': None, 'caption': None, 'contact': None, 'location': None, 'venue': None, 'animation': None, 'new_chat_member': None, 'new_chat_members': None, 'left_chat_member': None, 'new_chat_title': None, 'new_chat_photo': None, 'delete_chat_photo': None, 'group_chat_created': None, 'supergroup_chat_created': None, 'channel_chat_created': None, 'migrate_to_chat_id': None, 'migrate_from_chat_id': None, 'pinned_message': None, 'invoice': None, 'successful_payment': None, 'connected_website': None, 'json': {'message_id': 215, 'from': {'id': 1049407683, 'is_bot': False, 'first_name': 'Juliano', 'last_name': 'Oliveira', 'language_code': 'en'}, 'chat': {'id': 1049407683, 'first_name': 'Juliano', 'last_name': 'Oliveira', 'type': 'private'}, 'date': 1583659355, 'text': '/start', 'entities': [{'offset': 0, 'length': 6, 'type': 'bot_command'}]}}\n",
      "{'content_type': 'text', 'message_id': 219, 'from_user': {'id': 1049407683, 'is_bot': False, 'first_name': 'Juliano', 'username': None, 'last_name': 'Oliveira', 'language_code': 'en'}, 'date': 1583659396, 'chat': {'type': 'private', 'last_name': 'Oliveira', 'first_name': 'Juliano', 'username': None, 'id': 1049407683, 'title': None, 'all_members_are_administrators': None, 'photo': None, 'description': None, 'invite_link': None, 'pinned_message': None, 'sticker_set_name': None, 'can_set_sticker_set': None}, 'forward_from_chat': None, 'forward_from_message_id': None, 'forward_from': None, 'forward_date': None, 'reply_to_message': None, 'edit_date': None, 'media_group_id': None, 'author_signature': None, 'text': '/start', 'entities': [<telebot.types.MessageEntity object at 0x0000018409A62518>], 'caption_entities': None, 'audio': None, 'document': None, 'photo': None, 'sticker': None, 'video': None, 'video_note': None, 'voice': None, 'caption': None, 'contact': None, 'location': None, 'venue': None, 'animation': None, 'new_chat_member': None, 'new_chat_members': None, 'left_chat_member': None, 'new_chat_title': None, 'new_chat_photo': None, 'delete_chat_photo': None, 'group_chat_created': None, 'supergroup_chat_created': None, 'channel_chat_created': None, 'migrate_to_chat_id': None, 'migrate_from_chat_id': None, 'pinned_message': None, 'invoice': None, 'successful_payment': None, 'connected_website': None, 'json': {'message_id': 219, 'from': {'id': 1049407683, 'is_bot': False, 'first_name': 'Juliano', 'last_name': 'Oliveira', 'language_code': 'en'}, 'chat': {'id': 1049407683, 'first_name': 'Juliano', 'last_name': 'Oliveira', 'type': 'private'}, 'date': 1583659396, 'text': '/start', 'entities': [{'offset': 0, 'length': 6, 'type': 'bot_command'}]}}\n",
      "{'content_type': 'text', 'message_id': 219, 'from_user': {'id': 1049407683, 'is_bot': False, 'first_name': 'Juliano', 'username': None, 'last_name': 'Oliveira', 'language_code': 'en'}, 'date': 1583659396, 'chat': {'type': 'private', 'last_name': 'Oliveira', 'first_name': 'Juliano', 'username': None, 'id': 1049407683, 'title': None, 'all_members_are_administrators': None, 'photo': None, 'description': None, 'invite_link': None, 'pinned_message': None, 'sticker_set_name': None, 'can_set_sticker_set': None}, 'forward_from_chat': None, 'forward_from_message_id': None, 'forward_from': None, 'forward_date': None, 'reply_to_message': None, 'edit_date': None, 'media_group_id': None, 'author_signature': None, 'text': '/start', 'entities': [<telebot.types.MessageEntity object at 0x0000018409A62518>], 'caption_entities': None, 'audio': None, 'document': None, 'photo': None, 'sticker': None, 'video': None, 'video_note': None, 'voice': None, 'caption': None, 'contact': None, 'location': None, 'venue': None, 'animation': None, 'new_chat_member': None, 'new_chat_members': None, 'left_chat_member': None, 'new_chat_title': None, 'new_chat_photo': None, 'delete_chat_photo': None, 'group_chat_created': None, 'supergroup_chat_created': None, 'channel_chat_created': None, 'migrate_to_chat_id': None, 'migrate_from_chat_id': None, 'pinned_message': None, 'invoice': None, 'successful_payment': None, 'connected_website': None, 'json': {'message_id': 219, 'from': {'id': 1049407683, 'is_bot': False, 'first_name': 'Juliano', 'last_name': 'Oliveira', 'language_code': 'en'}, 'chat': {'id': 1049407683, 'first_name': 'Juliano', 'last_name': 'Oliveira', 'type': 'private'}, 'date': 1583659396, 'text': '/start', 'entities': [{'offset': 0, 'length': 6, 'type': 'bot_command'}]}}\n"
     ]
    }
   ],
   "source": [
    "bot.polling()"
   ]
  },
  {
   "cell_type": "code",
   "execution_count": 17,
   "metadata": {},
   "outputs": [],
   "source": [
    "import seaborn as sns\n",
    "import matplotlib.pyplot as plt"
   ]
  },
  {
   "cell_type": "code",
   "execution_count": 18,
   "metadata": {},
   "outputs": [
    {
     "name": "stderr",
     "output_type": "stream",
     "text": [
      "C:\\Users\\Jarvis\\Anaconda3\\lib\\site-packages\\matplotlib\\axes\\_axes.py:6462: UserWarning: The 'normed' kwarg is deprecated, and has been replaced by the 'density' kwarg.\n",
      "  warnings.warn(\"The 'normed' kwarg is deprecated, and has been \"\n"
     ]
    },
    {
     "data": {
      "text/plain": [
       "<matplotlib.lines.Line2D at 0x1840c2d1710>"
      ]
     },
     "execution_count": 18,
     "metadata": {},
     "output_type": "execute_result"
    },
    {
     "data": {
      "image/png": "[encoded data removed]",
      "text/plain": [
       "<Figure size 432x288 with 1 Axes>"
      ]
     },
     "metadata": {},
     "output_type": "display_data"
    }
   ],
   "source": [
    "sns.distplot(sisu.Nota,color=\"#E435F3\")\n",
    "plt.axvline(700, 0,1,c=\"#f2f542\",)"
   ]
  },
  {
   "cell_type": "code",
   "execution_count": null,
   "metadata": {},
   "outputs": [],
   "source": []
  }
 ],
 "metadata": {
  "kernelspec": {
   "display_name": "Python 3",
   "language": "python",
   "name": "python3"
  },
  "language_info": {
   "codemirror_mode": {
    "name": "ipython",
    "version": 3
   },
   "file_extension": ".py",
   "mimetype": "text/x-python",
   "name": "python",
   "nbconvert_exporter": "python",
   "pygments_lexer": "ipython3",
   "version": "3.6.5"
  }
 },
 "nbformat": 4,
 "nbformat_minor": 2
}
