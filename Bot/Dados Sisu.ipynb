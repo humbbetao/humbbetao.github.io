{
 "cells": [
  {
   "cell_type": "code",
   "execution_count": 28,
   "metadata": {},
   "outputs": [],
   "source": [
    "import pandas as pd"
   ]
  },
  {
   "cell_type": "code",
   "execution_count": 29,
   "metadata": {},
   "outputs": [],
   "source": [
    "consolidado = []"
   ]
  },
  {
   "cell_type": "code",
   "execution_count": 30,
   "metadata": {},
   "outputs": [],
   "source": [
    "with open('dados_sisu.txt','r') as doc:\n",
    "    for line in doc.readlines():\n",
    "        curso = line.split(\"|\")[0]\n",
    "        nota = line.split(\"|\")[-1].replace(\"\\n\",\"\")\n",
    "        \n",
    "        consolidado.append([curso,nota])"
   ]
  },
  {
   "cell_type": "code",
   "execution_count": 31,
   "metadata": {},
   "outputs": [],
   "source": [
    "dataset = pd.DataFrame(consolidado,columns=[\"Curso\",\"Nota\"])"
   ]
  },
  {
   "cell_type": "code",
   "execution_count": 33,
   "metadata": {},
   "outputs": [],
   "source": [
    "dataset.to_csv(\"dados_sisu.csv\",index=False,encoding=\"iso-8859-1\")"
   ]
  },
  {
   "cell_type": "code",
   "execution_count": 51,
   "metadata": {},
   "outputs": [],
   "source": [
    "class Nota_Sisu():\n",
    "    def __init__(self,curso):\n",
    "        self.curso = curso\n",
    "        self.notas = pd.read_csv(\"dados_sisu.csv\",encoding=\"iso-8859-1\")\n",
    "        \n",
    "    def get_curso_nota(self):\n",
    "        if self.curso in self.notas[\"Curso\"].values:\n",
    "            return self.notas[self.notas[\"Curso\"]==self.curso][\"Nota\"].values[0]\n",
    "        else:\n",
    "            return \"Curso nao encontrado\""
   ]
  }
 ],
 "metadata": {
  "kernelspec": {
   "display_name": "Python 3",
   "language": "python",
   "name": "python3"
  },
  "language_info": {
   "codemirror_mode": {
    "name": "ipython",
    "version": 3
   },
   "file_extension": ".py",
   "mimetype": "text/x-python",
   "name": "python",
   "nbconvert_exporter": "python",
   "pygments_lexer": "ipython3",
   "version": "3.6.5"
  }
 },
 "nbformat": 4,
 "nbformat_minor": 2
}
